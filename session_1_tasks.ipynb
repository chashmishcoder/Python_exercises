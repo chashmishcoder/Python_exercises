{
  "nbformat": 4,
  "nbformat_minor": 0,
  "metadata": {
    "colab": {
      "provenance": []
    },
    "kernelspec": {
      "name": "python3",
      "display_name": "Python 3"
    },
    "language_info": {
      "name": "python"
    }
  },
  "cells": [
    {
      "cell_type": "markdown",
      "source": [
        "# Task : Session 1\n",
        "Solve these questions own your own and try to test yourself what you have learned in the session.\n",
        "\n",
        "Happy Learning!"
      ],
      "metadata": {
        "id": "A05OG15VqOPF"
      }
    },
    {
      "cell_type": "markdown",
      "source": [
        "### Q1 :- Print the given strings as per stated format.\n",
        "\n",
        "**Given strings**:\n",
        "```\n",
        "\"Data\" \"Science\" \"Mentorship\" \"Program\"\n",
        "\"By\" \"CampusX\"\n",
        "```\n",
        "**Output**:\n",
        "```\n",
        "Data-Science-Mentorship-Program-started-By-CampusX\n",
        "```\n",
        "\n",
        "Concept- [Seperator and End]"
      ],
      "metadata": {
        "id": "2doIXf8bqe9_"
      }
    },
    {
      "cell_type": "code",
      "source": [
        "a,b,c,d,e,f = \"Data\", \"Science\", \"Mentorship\", \"Program\", \"By\", \"CampusX\"\n",
        "print(a,b,c,d,e,f,sep=\"-\")"
      ],
      "metadata": {
        "id": "-em6d3KErDtp",
        "colab": {
          "base_uri": "https://localhost:8080/"
        },
        "outputId": "14dd6799-1e8d-4b3f-ea68-4bad2afca2c7"
      },
      "execution_count": 7,
      "outputs": [
        {
          "output_type": "stream",
          "name": "stdout",
          "text": [
            "Data-Science-Mentorship-Program-By-CampusX\n"
          ]
        }
      ]
    },
    {
      "cell_type": "markdown",
      "source": [
        "### Q2:- Write a program that will convert celsius value to fahrenheit."
      ],
      "metadata": {
        "id": "1KUpN7ZTrC3_"
      }
    },
    {
      "cell_type": "code",
      "source": [
        "# Write your code here\n",
        "def temp_conversion(celsius):\n",
        "  fah = ((9/5) * celsius) + 32\n",
        "  return fah\n",
        "if __name__ == \"__main__\":\n",
        "  cel = float(input(\"Enter the Celsius temperature = \"))\n",
        "  result = temp_conversion(cel)\n",
        "  print(f\"{result} fahrenheit\")"
      ],
      "metadata": {
        "id": "yxKYhYQiqWfj",
        "colab": {
          "base_uri": "https://localhost:8080/"
        },
        "outputId": "f3c9eeed-08b7-4c9b-8d4b-101f88969013"
      },
      "execution_count": 12,
      "outputs": [
        {
          "output_type": "stream",
          "name": "stdout",
          "text": [
            "Enter the Celsius temperature = 40\n",
            "104.0 fahrenheit\n"
          ]
        }
      ]
    },
    {
      "cell_type": "markdown",
      "source": [
        "### Q3:- Take 2 numbers as input from the user.Write a program to swap the numbers without using any special python syntax."
      ],
      "metadata": {
        "id": "RLrOBBJurLB2"
      }
    },
    {
      "cell_type": "code",
      "source": [
        "# Write your code here\n",
        "def swap_logic(a,b):\n",
        "  c = b\n",
        "  b = a\n",
        "  a = c\n",
        "  return a, b\n",
        "\n",
        "\n",
        "if __name__ == \"__main__\":\n",
        "  num1 = int(input(\"Enter your number = \"))\n",
        "  num2 = int(input(\"Enter your number = \"))\n",
        "  x,y = swap_logic(num1,num2)\n",
        "  print(f\"num 1 is {x} and num 2 is {y}\")"
      ],
      "metadata": {
        "id": "yPn7if0TrJ4F",
        "colab": {
          "base_uri": "https://localhost:8080/"
        },
        "outputId": "464376f0-ed57-4943-d029-c195c17a3f3f"
      },
      "execution_count": 14,
      "outputs": [
        {
          "output_type": "stream",
          "name": "stdout",
          "text": [
            "Enter your number = 15\n",
            "Enter your number = 30\n",
            "num 1 is 30 and num 2 is 15\n"
          ]
        }
      ]
    },
    {
      "cell_type": "markdown",
      "source": [
        "### Q4:- Write a program to find the euclidean distance between two coordinates.Take both the coordinates from the user as input."
      ],
      "metadata": {
        "id": "waLCP1bjr7ML"
      }
    },
    {
      "cell_type": "code",
      "source": [
        "# Write your code here\n",
        "import math as mt\n",
        "def euclidean_dist(a,b,c,d):\n",
        "  dist = mt.sqrt((x2-x1)**2 + (y2-y1)**2)\n",
        "  return dist\n",
        "\n",
        "if __name__ == \"__main__\":\n",
        "  x1 = float(input(\"x1 = \"))\n",
        "  y1 = float(input(\"y1 = \"))\n",
        "  x2 = float(input(\"x2 = \"))\n",
        "  y2 = float(input(\"y2 = \"))\n",
        "  e_dist = euclidean_dist(x1,y1,x2,y2)\n",
        "  print(e_dist)"
      ],
      "metadata": {
        "id": "Pl1Sv-xnrxnH",
        "colab": {
          "base_uri": "https://localhost:8080/"
        },
        "outputId": "f1280b7c-f951-4a2b-b085-33d94ea4c2e1"
      },
      "execution_count": 21,
      "outputs": [
        {
          "output_type": "stream",
          "name": "stdout",
          "text": [
            "x1 = 1\n",
            "y1 = 2\n",
            "x2 = 8\n",
            "y2 = 6\n",
            "8.06225774829855\n"
          ]
        }
      ]
    },
    {
      "cell_type": "markdown",
      "source": [
        "### Q5:- Write a program to find the simple interest when the value of principle,rate of interest and time period is provided by the user.\n"
      ],
      "metadata": {
        "id": "VLrhg-FRsHjR"
      }
    },
    {
      "cell_type": "code",
      "source": [
        "# Write your code here\n",
        "def simple_interest(p,r,t):\n",
        "  s = (p*r*t/100)\n",
        "  return s\n",
        "if __name__ == \"__main__\":\n",
        "  principle = int(input(\"Enter principle amount: \"))\n",
        "  roi = int(input(\"Enter rate of interest: \"))\n",
        "  tp = int(input(\"time period: \"))\n",
        "  si = simple_interest(principle, roi, tp)\n",
        "  print(si)\n"
      ],
      "metadata": {
        "id": "s40DlReZsTmY",
        "colab": {
          "base_uri": "https://localhost:8080/"
        },
        "outputId": "0ba85f09-9bb8-4f4e-874f-be69d48a5194"
      },
      "execution_count": 22,
      "outputs": [
        {
          "output_type": "stream",
          "name": "stdout",
          "text": [
            "Enter principle amount: 100\n",
            "Enter rate of interest: 7\n",
            "time period: 2\n",
            "14.0\n"
          ]
        }
      ]
    },
    {
      "cell_type": "markdown",
      "source": [
        "### Q6:- Write a program that will tell the number of dogs and chicken are there when the user will provide the value of total heads and legs.\n",
        "\n",
        "For example:\n",
        "Input:\n",
        "heads -> 4\n",
        "legs -> 12\n",
        "<br>\n",
        "Output:\n",
        "dogs -> 2\n",
        "chicken -> 2\n",
        "\n",
        "\n",
        "\n"
      ],
      "metadata": {
        "id": "LMy0BTUktYKa"
      }
    },
    {
      "cell_type": "code",
      "source": [
        "# Logic\n",
        "def count(heads,legs):\n",
        "  count = 0\n",
        "  count = (legs)-2*(heads)\n",
        "  dogs = count/2\n",
        "  chicken = heads-dogs\n",
        "  return dogs, chicken\n",
        "\n",
        "\n",
        "\n",
        "if __name__ == \"__main__\":\n",
        "  heads = int(input(\"Enter total heads: \"))\n",
        "  legs = int(input(\"Enter total legs: \"))\n",
        "  no_of_dogs, no_of_chicken = count(heads,legs)\n",
        "  print(f\"Number of dogs = {int(no_of_dogs)} ; Number of chicken = {int(no_of_chicken)}\")\n",
        "\n",
        "\n",
        "\n"
      ],
      "metadata": {
        "id": "XSBvJoA4tXaG",
        "colab": {
          "base_uri": "https://localhost:8080/"
        },
        "outputId": "60d5f5a1-5da3-40e6-ac28-82c96428056a"
      },
      "execution_count": 30,
      "outputs": [
        {
          "output_type": "stream",
          "name": "stdout",
          "text": [
            "Enter total heads: 8\n",
            "Enter total legs: 20\n",
            "Number of dogs = 2 ; Number of chicken = 6\n"
          ]
        }
      ]
    },
    {
      "cell_type": "markdown",
      "source": [
        "### Q7:- Write a program to find the sum of squares of first n natural numbers where n will be provided by the user."
      ],
      "metadata": {
        "id": "gJ7C5kZYt4BP"
      }
    },
    {
      "cell_type": "code",
      "source": [
        "# Write your code here\n",
        "def sum_nat(n):\n",
        "  sum = 0\n",
        "  for i in range(1,n+1):\n",
        "    square = i**2\n",
        "    sum = sum+square\n",
        "  return sum\n",
        "\n",
        "if __name__ == \"__main__\":\n",
        "  num = int(input(\"Enter number \"))\n",
        "  result = sum_nat(num)\n",
        "  print(result)"
      ],
      "metadata": {
        "id": "_tHsmEHzt2nX",
        "colab": {
          "base_uri": "https://localhost:8080/"
        },
        "outputId": "07fdde13-6f36-4192-aba6-6d00a8a11cc0"
      },
      "execution_count": 33,
      "outputs": [
        {
          "output_type": "stream",
          "name": "stdout",
          "text": [
            "Enter number 5\n",
            "55\n"
          ]
        }
      ]
    },
    {
      "cell_type": "markdown",
      "source": [
        "### Q8:- Given the first 2 terms of an Arithmetic Series.Find the Nth term of the series. Assume all inputs are provided by the user."
      ],
      "metadata": {
        "id": "FHrMM7g-yG1h"
      }
    },
    {
      "cell_type": "code",
      "source": [
        "# Write your code here\n",
        "def ap(ft,st,nth):\n",
        "  diff = st - ft\n",
        "  series = [(ft+(i-1)*diff) for i in range(1,nth+1)]\n",
        "  return series[-1]\n",
        "\n",
        "\n",
        "if __name__ == \"__main__\":\n",
        "  ft = int(input(\"Enter First Term = \"))\n",
        "  st = int(input(\"Enter second Term = \"))\n",
        "  nth = int(input(\"Enter Nth Term = \"))\n",
        "  result = ap(ft,st,nth)\n",
        "  print(f\"Nth term of series is {result}\")"
      ],
      "metadata": {
        "id": "go4_kmZmyVSx",
        "colab": {
          "base_uri": "https://localhost:8080/"
        },
        "outputId": "0dd1e08d-e164-4d1f-def7-ffa071ba252d"
      },
      "execution_count": 44,
      "outputs": [
        {
          "output_type": "stream",
          "name": "stdout",
          "text": [
            "Enter First Term = 5\n",
            "Enter second Term = 7\n",
            "Enter Nth Term = 10\n",
            "Nth term of series is 23\n"
          ]
        }
      ]
    },
    {
      "cell_type": "markdown",
      "source": [
        "### Q9:- Given 2 fractions, find the sum of those 2 fractions.Take the numerator and denominator values of the fractions from the user."
      ],
      "metadata": {
        "id": "QgyRX_es1oum"
      }
    },
    {
      "cell_type": "code",
      "source": [
        "# Write your code here\n",
        "def sum_fract(num1,num2,de1,de2):\n",
        "  s = (num1/de1)+(num2/de2)\n",
        "  return s\n",
        "\n",
        "if __name__ == \"__main__\":\n",
        "  num1 = int(input(\"Enter Numerator1 value\"))\n",
        "  de1 = int(input(\"Enter Denominator1 value\"))\n",
        "  num2 = int(input(\"Enter Numerator2 value\"))\n",
        "  de2 = int(input(\"Enter Denominator2 value\"))\n",
        "  result = sum_fract(num1,num2,de1,de2)\n",
        "  print(f\"Sum of two fraction is {result}\")\n"
      ],
      "metadata": {
        "id": "X05xqFS1yW16",
        "colab": {
          "base_uri": "https://localhost:8080/"
        },
        "outputId": "3dab2472-4ab4-49b1-fd12-db928eea800b"
      },
      "execution_count": 48,
      "outputs": [
        {
          "output_type": "stream",
          "name": "stdout",
          "text": [
            "Enter Numerator1 value5\n",
            "Enter Denominator1 value2\n",
            "Enter Numerator2 value9\n",
            "Enter Denominator2 value5\n",
            "Sum of two fraction is 4.3\n"
          ]
        }
      ]
    },
    {
      "cell_type": "markdown",
      "source": [
        "### Q10:- Given the height, width and breadth of a milk tank, you have to find out how many glasses of milk can be obtained? Assume all the inputs are provided by the user.\n",
        "\n",
        "\n",
        "\n",
        "Input:<br>\n",
        "Dimensions of the milk tank<br>\n",
        "H = 20cm, L = 20cm, B = 20cm\n",
        "<br><br>\n",
        "Dimensions of the glass<br>\n",
        "h = 3cm, r = 1cm"
      ],
      "metadata": {
        "id": "eaql38ln13u7"
      }
    },
    {
      "cell_type": "code",
      "source": [
        "# Write your code here\n",
        "def volume_tank(h,w,b):\n",
        "  vol1 = h*w*b\n",
        "  return vol1\n",
        "def volume_of_glass(hg,r):\n",
        "  vol2 = 3.14*(r)**2*hg\n",
        "  return vol2\n",
        "def no_glass(vol1,vol2):\n",
        "  num = (vol1//vol2)\n",
        "  return num\n",
        "\n",
        "if __name__ == \"__main__\":\n",
        "  print(\"Dimensions of the milk tank\")\n",
        "  h = int(input(\"Enter the height of milk tank: \"))\n",
        "  w = int(input(\"Enter the width of milk tank: \"))\n",
        "  b = int(input(\"Enter the breadth of milk tank: \"))\n",
        "  print(\"--------------------------------------------\")\n",
        "  print(\"Dimensions of the glass\")\n",
        "  hg = int(input(\"Enter the height of glass: \"))\n",
        "  r = int(input(\"Enter the radius of glass: \"))\n",
        "  v1 = volume_tank(h,w,b)\n",
        "  v2 = volume_of_glass(hg,r)\n",
        "  result = no_glass(v1,v2)\n",
        "  print(f\"{int(result)} glasses of milk can be obtained\")\n"
      ],
      "metadata": {
        "id": "FePZqno74eWv",
        "colab": {
          "base_uri": "https://localhost:8080/"
        },
        "outputId": "475caf43-2db9-45ad-8b2b-74d4dd4564d0"
      },
      "execution_count": 55,
      "outputs": [
        {
          "output_type": "stream",
          "name": "stdout",
          "text": [
            "Dimensions of the milk tank\n",
            "Enter the height of milk tank: 20\n",
            "Enter the width of milk tank: 20\n",
            "Enter the breadth of milk tank: 20\n",
            "--------------------------------------------\n",
            "Dimensions of the glass\n",
            "Enter the height of glass: 3\n",
            "Enter the radius of glass: 1\n",
            "849 glasses of milk can be obtained\n"
          ]
        }
      ]
    }
  ]
}